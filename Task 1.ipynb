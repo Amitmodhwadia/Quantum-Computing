{
 "cells": [
  {
   "cell_type": "code",
   "execution_count": null,
   "id": "4d25b13d",
   "metadata": {},
   "outputs": [],
   "source": [
    "#TASK 1"
   ]
  },
  {
   "cell_type": "code",
   "execution_count": 1,
   "id": "2ffa2549",
   "metadata": {},
   "outputs": [],
   "source": [
    "def find(a,b):\n",
    "\n",
    "    from qiskit import QuantumCircuit, QuantumRegister, ClassicalRegister, Aer, execute\n",
    "    n = max(a.bit_length(), b.bit_length())\n",
    "\n",
    "    qr_a = QuantumRegister(n, name='a')\n",
    "    qr_b = QuantumRegister(n, name='b')\n",
    "    qr_result = QuantumRegister(1, name='result')\n",
    "    cr = ClassicalRegister(1, name='cr')\n",
    "    qc = QuantumCircuit(qr_a, qr_b, qr_result, cr)\n",
    "    \n",
    "    a_bits = [int(bit) for bit in bin(a & (2**n-1))[2:]]\n",
    "    b_bits = [int(bit) for bit in bin(b & (2**n-1))[2:]]\n",
    "    a_bits.reverse()\n",
    "    b_bits.reverse()\n",
    "   \n",
    "    for i, bit in enumerate(a_bits):\n",
    "        if bit == 1:\n",
    "            qc.x(qr_a[i])\n",
    "    for i, bit in enumerate(b_bits):\n",
    "        if bit == 1:\n",
    "            qc.x(qr_b[i])\n",
    "\n",
    "\n",
    "    for i in range(n):\n",
    "        qc.cx(qr_a[i], qr_b[i])\n",
    "    \n",
    "        \n",
    "    qc.h(qr_result)\n",
    "    qc.measure(qr_result[0], cr[0])\n",
    "    print(qc)\n",
    "\n",
    "    backend = Aer.get_backend('qasm_simulator')\n",
    "    job = execute(qc, backend, shots=1)\n",
    "    result = job.result().get_counts()\n",
    "    if a_bits == b_bits:\n",
    "        print(f\"{a} and {b} are equal\")\n",
    "    elif '1' in result:\n",
    "        print(f\"{b} is greater than {a}\")\n",
    "    else:\n",
    "        print(f\"{a} is greater than {b}\")"
   ]
  },
  {
   "cell_type": "code",
   "execution_count": 2,
   "id": "6be52d72",
   "metadata": {},
   "outputs": [
    {
     "name": "stdout",
     "output_type": "stream",
     "text": [
      "                       \n",
      "   a_0: ───────■───────\n",
      "        ┌───┐  │       \n",
      "   a_1: ┤ X ├──┼────■──\n",
      "        ├───┤┌─┴─┐  │  \n",
      "   b_0: ┤ X ├┤ X ├──┼──\n",
      "        └───┘└───┘┌─┴─┐\n",
      "   b_1: ──────────┤ X ├\n",
      "        ┌───┐ ┌─┐ └───┘\n",
      "result: ┤ H ├─┤M├──────\n",
      "        └───┘ └╥┘      \n",
      "  cr: 1/═══════╩═══════\n",
      "               0       \n",
      "2 is greater than 1\n"
     ]
    }
   ],
   "source": [
    "find(2,1)"
   ]
  }
 ],
 "metadata": {
  "kernelspec": {
   "display_name": "Qiskit (stable)",
   "language": "python",
   "name": "qiskit-stable"
  },
  "language_info": {
   "codemirror_mode": {
    "name": "ipython",
    "version": 3
   },
   "file_extension": ".py",
   "mimetype": "text/x-python",
   "name": "python",
   "nbconvert_exporter": "python",
   "pygments_lexer": "ipython3",
   "version": "3.11.0"
  }
 },
 "nbformat": 4,
 "nbformat_minor": 5
}
